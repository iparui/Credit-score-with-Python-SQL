{
 "cells": [
  {
   "cell_type": "code",
   "execution_count": 2,
   "id": "3e027c37",
   "metadata": {},
   "outputs": [
    {
     "name": "stdout",
     "output_type": "stream",
     "text": [
      "Collecting tabulate\n",
      "  Downloading tabulate-0.9.0-py3-none-any.whl (35 kB)\n",
      "Installing collected packages: tabulate\n",
      "Successfully installed tabulate-0.9.0\n",
      "Note: you may need to restart the kernel to use updated packages.\n"
     ]
    }
   ],
   "source": [
    "pip install tabulate\n"
   ]
  },
  {
   "cell_type": "code",
   "execution_count": 3,
   "id": "3303c794",
   "metadata": {},
   "outputs": [
    {
     "name": "stdout",
     "output_type": "stream",
     "text": [
      "+----+-------------+--------------------+------------------+---------------+----------------+------------------------+-------------------+------------+----------------+-----------------+\n",
      "|    | user_name   |   on_time_payments |   total_payments |   credit_used |   credit_limit |   oldest_account_years |   has_credit_card |   has_loan |   has_mortgage |   num_inquiries |\n",
      "+====+=============+====================+==================+===============+================+========================+===================+============+================+=================+\n",
      "|  0 | Jai12       |                 28 |               30 |          3000 |          10000 |                      5 |                 1 |          0 |              0 |               2 |\n",
      "+----+-------------+--------------------+------------------+---------------+----------------+------------------------+-------------------+------------+----------------+-----------------+\n",
      "|  1 | Princi45    |                 24 |               26 |          1500 |           5000 |                      3 |                 1 |          1 |              0 |               1 |\n",
      "+----+-------------+--------------------+------------------+---------------+----------------+------------------------+-------------------+------------+----------------+-----------------+\n",
      "|  2 | Gaurav6     |                 19 |               22 |          1000 |           4000 |                      2 |                 1 |          1 |              0 |               3 |\n",
      "+----+-------------+--------------------+------------------+---------------+----------------+------------------------+-------------------+------------+----------------+-----------------+\n",
      "|  3 | Anuja120    |                 30 |               30 |             0 |           1000 |                      8 |                 0 |          1 |              1 |               0 |\n",
      "+----+-------------+--------------------+------------------+---------------+----------------+------------------------+-------------------+------------+----------------+-----------------+\n"
     ]
    }
   ],
   "source": [
    "import pandas as pd\n",
    "from tabulate import tabulate\n",
    "\n",
    "# Your input data\n",
    "input_data = {\n",
    "    'user_name': ['Jai12', 'Princi45', 'Gaurav6', 'Anuja120'],\n",
    "    'on_time_payments': [28, 24, 19, 30],\n",
    "    'total_payments': [30, 26, 22, 30],\n",
    "    'credit_used': [3000, 1500, 1000, 0],\n",
    "    'credit_limit': [10000, 5000, 4000, 1000],\n",
    "    'oldest_account_years': [5, 3, 2, 8],\n",
    "    'has_credit_card': [1, 1, 1, 0],\n",
    "    'has_loan': [0, 1, 1, 1],\n",
    "    'has_mortgage': [0, 0, 0, 1],\n",
    "    'num_inquiries': [2, 1, 3, 0]\n",
    "}\n",
    "\n",
    "df = pd.DataFrame(input_data)\n",
    "\n",
    "# Print as a table\n",
    "print(tabulate(df, headers='keys', tablefmt='grid'))\n"
   ]
  },
  {
   "cell_type": "code",
   "execution_count": 4,
   "id": "f595e488",
   "metadata": {},
   "outputs": [
    {
     "data": {
      "text/html": [
       "<style type=\"text/css\">\n",
       "</style>\n",
       "<table id=\"T_1d898_\" style='display:inline'>\n",
       "  <caption>Credit Score Input Data</caption>\n",
       "  <thead>\n",
       "    <tr>\n",
       "      <th class=\"blank level0\" >&nbsp;</th>\n",
       "      <th class=\"col_heading level0 col0\" >user_name</th>\n",
       "      <th class=\"col_heading level0 col1\" >on_time_payments</th>\n",
       "      <th class=\"col_heading level0 col2\" >total_payments</th>\n",
       "      <th class=\"col_heading level0 col3\" >credit_used</th>\n",
       "      <th class=\"col_heading level0 col4\" >credit_limit</th>\n",
       "      <th class=\"col_heading level0 col5\" >oldest_account_years</th>\n",
       "      <th class=\"col_heading level0 col6\" >has_credit_card</th>\n",
       "      <th class=\"col_heading level0 col7\" >has_loan</th>\n",
       "      <th class=\"col_heading level0 col8\" >has_mortgage</th>\n",
       "      <th class=\"col_heading level0 col9\" >num_inquiries</th>\n",
       "    </tr>\n",
       "  </thead>\n",
       "  <tbody>\n",
       "    <tr>\n",
       "      <th id=\"T_1d898_level0_row0\" class=\"row_heading level0 row0\" >0</th>\n",
       "      <td id=\"T_1d898_row0_col0\" class=\"data row0 col0\" >Jai12</td>\n",
       "      <td id=\"T_1d898_row0_col1\" class=\"data row0 col1\" >28</td>\n",
       "      <td id=\"T_1d898_row0_col2\" class=\"data row0 col2\" >30</td>\n",
       "      <td id=\"T_1d898_row0_col3\" class=\"data row0 col3\" >3000</td>\n",
       "      <td id=\"T_1d898_row0_col4\" class=\"data row0 col4\" >10000</td>\n",
       "      <td id=\"T_1d898_row0_col5\" class=\"data row0 col5\" >5</td>\n",
       "      <td id=\"T_1d898_row0_col6\" class=\"data row0 col6\" >1</td>\n",
       "      <td id=\"T_1d898_row0_col7\" class=\"data row0 col7\" >0</td>\n",
       "      <td id=\"T_1d898_row0_col8\" class=\"data row0 col8\" >0</td>\n",
       "      <td id=\"T_1d898_row0_col9\" class=\"data row0 col9\" >2</td>\n",
       "    </tr>\n",
       "    <tr>\n",
       "      <th id=\"T_1d898_level0_row1\" class=\"row_heading level0 row1\" >1</th>\n",
       "      <td id=\"T_1d898_row1_col0\" class=\"data row1 col0\" >Princi45</td>\n",
       "      <td id=\"T_1d898_row1_col1\" class=\"data row1 col1\" >24</td>\n",
       "      <td id=\"T_1d898_row1_col2\" class=\"data row1 col2\" >26</td>\n",
       "      <td id=\"T_1d898_row1_col3\" class=\"data row1 col3\" >1500</td>\n",
       "      <td id=\"T_1d898_row1_col4\" class=\"data row1 col4\" >5000</td>\n",
       "      <td id=\"T_1d898_row1_col5\" class=\"data row1 col5\" >3</td>\n",
       "      <td id=\"T_1d898_row1_col6\" class=\"data row1 col6\" >1</td>\n",
       "      <td id=\"T_1d898_row1_col7\" class=\"data row1 col7\" >1</td>\n",
       "      <td id=\"T_1d898_row1_col8\" class=\"data row1 col8\" >0</td>\n",
       "      <td id=\"T_1d898_row1_col9\" class=\"data row1 col9\" >1</td>\n",
       "    </tr>\n",
       "    <tr>\n",
       "      <th id=\"T_1d898_level0_row2\" class=\"row_heading level0 row2\" >2</th>\n",
       "      <td id=\"T_1d898_row2_col0\" class=\"data row2 col0\" >Gaurav6</td>\n",
       "      <td id=\"T_1d898_row2_col1\" class=\"data row2 col1\" >19</td>\n",
       "      <td id=\"T_1d898_row2_col2\" class=\"data row2 col2\" >22</td>\n",
       "      <td id=\"T_1d898_row2_col3\" class=\"data row2 col3\" >1000</td>\n",
       "      <td id=\"T_1d898_row2_col4\" class=\"data row2 col4\" >4000</td>\n",
       "      <td id=\"T_1d898_row2_col5\" class=\"data row2 col5\" >2</td>\n",
       "      <td id=\"T_1d898_row2_col6\" class=\"data row2 col6\" >1</td>\n",
       "      <td id=\"T_1d898_row2_col7\" class=\"data row2 col7\" >1</td>\n",
       "      <td id=\"T_1d898_row2_col8\" class=\"data row2 col8\" >0</td>\n",
       "      <td id=\"T_1d898_row2_col9\" class=\"data row2 col9\" >3</td>\n",
       "    </tr>\n",
       "    <tr>\n",
       "      <th id=\"T_1d898_level0_row3\" class=\"row_heading level0 row3\" >3</th>\n",
       "      <td id=\"T_1d898_row3_col0\" class=\"data row3 col0\" >Anuja120</td>\n",
       "      <td id=\"T_1d898_row3_col1\" class=\"data row3 col1\" >30</td>\n",
       "      <td id=\"T_1d898_row3_col2\" class=\"data row3 col2\" >30</td>\n",
       "      <td id=\"T_1d898_row3_col3\" class=\"data row3 col3\" >0</td>\n",
       "      <td id=\"T_1d898_row3_col4\" class=\"data row3 col4\" >1000</td>\n",
       "      <td id=\"T_1d898_row3_col5\" class=\"data row3 col5\" >8</td>\n",
       "      <td id=\"T_1d898_row3_col6\" class=\"data row3 col6\" >0</td>\n",
       "      <td id=\"T_1d898_row3_col7\" class=\"data row3 col7\" >1</td>\n",
       "      <td id=\"T_1d898_row3_col8\" class=\"data row3 col8\" >1</td>\n",
       "      <td id=\"T_1d898_row3_col9\" class=\"data row3 col9\" >0</td>\n",
       "    </tr>\n",
       "  </tbody>\n",
       "</table>\n"
      ],
      "text/plain": [
       "<pandas.io.formats.style.Styler at 0x22119f16f40>"
      ]
     },
     "execution_count": 4,
     "metadata": {},
     "output_type": "execute_result"
    }
   ],
   "source": [
    "df.style.set_table_attributes(\"style='display:inline'\").set_caption(\"Credit Score Input Data\")\n"
   ]
  },
  {
   "cell_type": "code",
   "execution_count": null,
   "id": "268a3d4d",
   "metadata": {},
   "outputs": [],
   "source": []
  }
 ],
 "metadata": {
  "kernelspec": {
   "display_name": "Python 3 (ipykernel)",
   "language": "python",
   "name": "python3"
  },
  "language_info": {
   "codemirror_mode": {
    "name": "ipython",
    "version": 3
   },
   "file_extension": ".py",
   "mimetype": "text/x-python",
   "name": "python",
   "nbconvert_exporter": "python",
   "pygments_lexer": "ipython3",
   "version": "3.9.7"
  }
 },
 "nbformat": 4,
 "nbformat_minor": 5
}
